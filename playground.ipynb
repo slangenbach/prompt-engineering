{
 "cells": [
  {
   "attachments": {},
   "cell_type": "markdown",
   "metadata": {},
   "source": [
    "# Prompt Engineering Playground\n",
    "\n",
    "Interacting with ChatGPT via its API.  \n",
    "Based on best practices from [DeepLearning.AI][1]'s course [prompt engineering for developers][2]\n",
    "\n",
    "[1]: https://www.deeplearning.ai/\n",
    "[2]: https://www.deeplearning.ai/short-courses/chatgpt-prompt-engineering-for-developers/"
   ]
  },
  {
   "attachments": {},
   "cell_type": "markdown",
   "metadata": {},
   "source": [
    "## Setup"
   ]
  },
  {
   "cell_type": "code",
   "execution_count": null,
   "metadata": {},
   "outputs": [],
   "source": [
    "import openai\n",
    "import os\n",
    "from prompt_engineering.utils import Chat"
   ]
  },
  {
   "cell_type": "code",
   "execution_count": null,
   "metadata": {},
   "outputs": [],
   "source": [
    "%load_ext dotenv\n",
    "%load_ext autoreload\n",
    "%autoreload 2"
   ]
  },
  {
   "cell_type": "code",
   "execution_count": null,
   "metadata": {},
   "outputs": [],
   "source": [
    "openai.api_key = os.getenv(\"OPENAI_API_KEY\")"
   ]
  },
  {
   "attachments": {},
   "cell_type": "markdown",
   "metadata": {},
   "source": [
    "## Prototyping"
   ]
  },
  {
   "attachments": {},
   "cell_type": "markdown",
   "metadata": {},
   "source": [
    "### Generate data- and machine-learning related Python code"
   ]
  },
  {
   "cell_type": "code",
   "execution_count": null,
   "metadata": {},
   "outputs": [],
   "source": [
    "data_persona = \"\"\"\n",
    "You are an experienced Python developer with a focus on data engineering\n",
    "and machine learning.\n",
    "\"\"\""
   ]
  },
  {
   "cell_type": "code",
   "execution_count": null,
   "metadata": {},
   "outputs": [],
   "source": [
    "data_chat = Chat(persona=data_persona)"
   ]
  },
  {
   "cell_type": "code",
   "execution_count": null,
   "metadata": {},
   "outputs": [],
   "source": [
    "data_prompt = \"\"\"\n",
    "You are working with the Bank Marketing dataset from the UCI Machine Learning Repository.\n",
    "Your task is to use the latest version of the pandera package to write a DataFrameModel for the \n",
    "Bank Marketing dataset using the API inspired by pydantic.\n",
    "\"\"\""
   ]
  },
  {
   "cell_type": "code",
   "execution_count": null,
   "metadata": {},
   "outputs": [],
   "source": [
    "data_chat.chat(prompt=data_prompt, temperature=0.3)"
   ]
  },
  {
   "cell_type": "code",
   "execution_count": null,
   "metadata": {},
   "outputs": [],
   "source": [
    "follow_up_prompt = f\"\"\"\n",
    "Based on the pandera schema you developed for the ```{data_prompt}``` task, \n",
    "demonstrate how to use the pandera schema to produce synthetic data using the hypothesis Python library.\n",
    "Do not use the .example() method, but @hypothesis.given decorator instead.\n",
    "\"\"\""
   ]
  },
  {
   "cell_type": "code",
   "execution_count": null,
   "metadata": {},
   "outputs": [],
   "source": [
    "data_chat.chat(prompt=follow_up_prompt)"
   ]
  },
  {
   "cell_type": "code",
   "execution_count": null,
   "metadata": {},
   "outputs": [],
   "source": [
    "hyperopt_prompt = \"\"\"\n",
    "You have trained 3 machine learning models using the Python library scikit-learn: \\\n",
    "logistic regression, random forrest and gradient boosted tree. \\\n",
    "Write a function to optimize the hyperparameters of the models using scikit-learn. \\\n",
    "The function should accept the type of model you are trying to optimize and a set of hyperparameters to tune. \\\n",
    "Make sure to use mlflow to track relevant parameters of the hyperparameter optimization process.\n",
    "\"\"\""
   ]
  },
  {
   "cell_type": "code",
   "execution_count": null,
   "metadata": {},
   "outputs": [],
   "source": [
    "data_chat.chat(prompt=hyperopt_prompt)"
   ]
  },
  {
   "cell_type": "code",
   "execution_count": null,
   "metadata": {},
   "outputs": [],
   "source": []
  }
 ],
 "metadata": {
  "kernelspec": {
   "display_name": "Python 3",
   "language": "python",
   "name": "python3"
  },
  "language_info": {
   "codemirror_mode": {
    "name": "ipython",
    "version": 3
   },
   "file_extension": ".py",
   "mimetype": "text/x-python",
   "name": "python",
   "nbconvert_exporter": "python",
   "pygments_lexer": "ipython3",
   "version": "3.10.4"
  }
 },
 "nbformat": 4,
 "nbformat_minor": 2
}
